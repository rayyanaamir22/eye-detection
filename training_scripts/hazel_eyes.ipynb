{
  "cells": [
    {
      "cell_type": "code",
      "execution_count": null,
      "metadata": {
        "id": "tH2tG9FmYcha"
      },
      "outputs": [],
      "source": [
        "# frameworks\n",
        "!pip install ultralytics\n",
        "from ultralytics import YOLO\n",
        "from google.colab import drive; drive.mount('/content/drive')"
      ]
    },
    {
      "cell_type": "code",
      "execution_count": null,
      "metadata": {
        "id": "FjGXLROEYimk"
      },
      "outputs": [],
      "source": [
        "model = YOLO('yolo11n.pt')\n",
        "yaml_path = '/content/drive/My Drive/eyes_dataset/eyes_dataset.yaml'"
      ]
    },
    {
      "cell_type": "code",
      "execution_count": null,
      "metadata": {
        "id": "yOg4DCsCYjCM"
      },
      "outputs": [],
      "source": [
        "# transfer learn on the data\n",
        "model.train(\n",
        "      data=yaml_path,\n",
        "      epochs=50,\n",
        "      imgsz=640,\n",
        "      batch=16,\n",
        "  )"
      ]
    },
    {
      "cell_type": "code",
      "execution_count": null,
      "metadata": {
        "id": "OX_jnkUAYkoR"
      },
      "outputs": [],
      "source": [
        "model.save('/content/drive/My Drive/hazel_eyes.pt')"
      ]
    },
    {
      "cell_type": "code",
      "execution_count": null,
      "metadata": {
        "id": "2xIjEWRKYqh4"
      },
      "outputs": [],
      "source": [
        "import shutil\n",
        "\n",
        "# Define source and destination paths\n",
        "source_path = '/content/runs/detect/train'\n",
        "destination_path = '/content/drive/My Drive/runs/detect/train'\n",
        "\n",
        "# Copy the directory\n",
        "shutil.copytree(source_path, destination_path)"
      ]
    }
  ],
  "metadata": {
    "colab": {
      "provenance": []
    },
    "kernelspec": {
      "display_name": "Python 3",
      "name": "python3"
    },
    "language_info": {
      "name": "python",
      "version": "3.10.10"
    }
  },
  "nbformat": 4,
  "nbformat_minor": 0
}
